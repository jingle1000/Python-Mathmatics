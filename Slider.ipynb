{
 "cells": [
  {
   "cell_type": "code",
   "execution_count": 17,
   "metadata": {},
   "outputs": [],
   "source": [
    "import matplotlib.pyplot as plt\n",
    "from matplotlib.widgets import Slider, Button\n",
    "%matplotlib qt"
   ]
  },
  {
   "cell_type": "code",
   "execution_count": 18,
   "metadata": {},
   "outputs": [],
   "source": [
    "x = list(range(0, 11))\n",
    "y = [10] * 11"
   ]
  },
  {
   "cell_type": "code",
   "execution_count": 19,
   "metadata": {},
   "outputs": [],
   "source": [
    "fig, ax = plt.subplots()\n",
    "plt.subplots_adjust(left=0.1, bottom=0.35)\n",
    "p, = plt.plot(x, y, linewidth=2, color=\"blue\")\n",
    "\n"
   ]
  },
  {
   "cell_type": "code",
   "execution_count": 21,
   "metadata": {},
   "outputs": [],
   "source": [
    "axSlider1 = plt.axes([0.1, 0.2, 0.8, 0.05])\n",
    "slider1 = Slider(axSlider1, \n",
    "                 label=\"Slider\", \n",
    "                 valmin=0, \n",
    "                 valmax=100, \n",
    "                 valinit=30)"
   ]
  },
  {
   "cell_type": "code",
   "execution_count": 23,
   "metadata": {},
   "outputs": [],
   "source": [
    "axSlider2 = plt.axes([0.1, 0.1, 0.8, 0.05])\n",
    "slder2 = Slider(ax=axSlider2,\n",
    "\t\t\t\tlabel='Slider 2',\n",
    "\t\t\t\tvalmin=0,\n",
    "\t\t\t\tvalmax=100,\n",
    "\t\t\t\tvalinit=30,\n",
    "\t\t\t\tvalfmt='%1.2f',\n",
    "\t\t\t\tvalstep=10,\n",
    "\t\t\t\t# slidermin=slder1,\n",
    "\t\t\t\tclosedmax=True,\n",
    "\t\t\t\tcolor='green')"
   ]
  },
  {
   "cell_type": "code",
   "execution_count": 26,
   "metadata": {},
   "outputs": [],
   "source": [
    "def val_update(val):\n",
    "\tyval = slder2.val\n",
    "\tp.set_ydata(yval)\n",
    "\tplt.draw()"
   ]
  },
  {
   "cell_type": "code",
   "execution_count": null,
   "metadata": {},
   "outputs": [],
   "source": []
  }
 ],
 "metadata": {
  "kernelspec": {
   "display_name": "Python 3",
   "language": "python",
   "name": "python3"
  },
  "language_info": {
   "codemirror_mode": {
    "name": "ipython",
    "version": 3
   },
   "file_extension": ".py",
   "mimetype": "text/x-python",
   "name": "python",
   "nbconvert_exporter": "python",
   "pygments_lexer": "ipython3",
   "version": "3.7.1"
  }
 },
 "nbformat": 4,
 "nbformat_minor": 2
}
