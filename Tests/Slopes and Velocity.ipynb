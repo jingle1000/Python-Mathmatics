{
 "cells": [
  {
   "cell_type": "code",
   "execution_count": 61,
   "metadata": {},
   "outputs": [],
   "source": [
    "import numpy as np\n",
    "import pandas as pd\n",
    "import matplotlib.pyplot as plt\n",
    "import math"
   ]
  },
  {
   "cell_type": "code",
   "execution_count": 62,
   "metadata": {},
   "outputs": [],
   "source": [
    "#What is the slope of the line through (−1, 2)\n",
    "#and (x, y) for y = x^2 + x − 2"
   ]
  },
  {
   "cell_type": "code",
   "execution_count": 63,
   "metadata": {},
   "outputs": [],
   "source": [
    "#the base equation\n",
    "'''takes a numpy array as input returns list'''\n",
    "def f1(x):\n",
    "    y = []\n",
    "    for i in x:\n",
    "        val = (i**2) + i -2\n",
    "        y.append(val)\n",
    "    return y\n",
    "\n",
    "#calculating the slope of the tangent line\n",
    "'''takes integer as input returns fraction/decimal as slope'''\n",
    "def t1(x):\n",
    "    x = list(x)\n",
    "    y = (f(x+h) - f(x)) / h\n",
    "    slope = x/y\n",
    "    return slope\n",
    "\n",
    "#the tangent line equation\n",
    "'''Takes a numpy array of x values and a slope'''\n",
    "def tangent(x, slope):\n",
    "    y = []\n",
    "    for i in x:\n",
    "        val = slope * i\n",
    "        y.append(val)\n",
    "    return y\n"
   ]
  },
  {
   "cell_type": "code",
   "execution_count": 64,
   "metadata": {},
   "outputs": [],
   "source": [
    "x = list(np.linspace(0, 15))\n",
    "y = f1(x)"
   ]
  },
  {
   "cell_type": "code",
   "execution_count": 65,
   "metadata": {},
   "outputs": [
    {
     "data": {
      "image/png": "[encoded data removed]",
      "text/plain": [
       "<Figure size 432x288 with 1 Axes>"
      ]
     },
     "metadata": {
      "needs_background": "light"
     },
     "output_type": "display_data"
    }
   ],
   "source": [
    "plt.plot(x, y)\n",
    "plt.show()"
   ]
  },
  {
   "cell_type": "code",
   "execution_count": 93,
   "metadata": {},
   "outputs": [],
   "source": [
    "#Find the equations of a line tangent to y = x3-2x2+x-3 at the point x=1.  \n",
    "'''x represents a list'''\n",
    "def f2(x):\n",
    "    y = []\n",
    "    for i in x:\n",
    "        val = (i**3)-(2*i**2)+i-3\n",
    "        y.append(val)\n",
    "    return y\n",
    "\n",
    "def getY(x):\n",
    "    return (x**3)-(2*x**2)+x-3\n",
    "\n",
    "def t2(xcoord):\n",
    "    for x in xcoord:\n",
    "        return (getY(x + 0.000001)-getY(x))/0.000001"
   ]
  },
  {
   "cell_type": "code",
   "execution_count": 94,
   "metadata": {},
   "outputs": [],
   "source": [
    "x = list(np.linspace(-15, 15))\n",
    "y = []\n",
    "y = f2(x)"
   ]
  },
  {
   "cell_type": "code",
   "execution_count": 110,
   "metadata": {},
   "outputs": [
    {
     "name": "stdout",
     "output_type": "stream",
     "text": [
      "Slope 261.0000278764346\n"
     ]
    }
   ],
   "source": [
    "#get the tangent line at x=1\n",
    "xcoord = [10]\n",
    "ycoord = f2(xcoord)\n",
    "slope = t2(xcoord)\n",
    "print(f\"Slope {slope}\")\n",
    "x1 = list(np.linspace(-15, 15))\n",
    "x1 = [x+xcoord for x in x1]\n",
    "y1 = [float((xval*slope)+ycoord) for xval in x1]"
   ]
  },
  {
   "cell_type": "code",
   "execution_count": 111,
   "metadata": {},
   "outputs": [
    {
     "data": {
      "text/plain": [
       "[<matplotlib.lines.Line2D at 0x1aabfa602e8>]"
      ]
     },
     "execution_count": 111,
     "metadata": {},
     "output_type": "execute_result"
    },
    {
     "data": {
      "image/png": "[encoded data removed]",
      "text/plain": [
       "<Figure size 432x288 with 1 Axes>"
      ]
     },
     "metadata": {
      "needs_background": "light"
     },
     "output_type": "display_data"
    }
   ],
   "source": [
    "plt.plot(x, y)\n",
    "plt.plot(x1, y1)"
   ]
  },
  {
   "cell_type": "code",
   "execution_count": null,
   "metadata": {},
   "outputs": [],
   "source": []
  }
 ],
 "metadata": {
  "kernelspec": {
   "display_name": "Python 3",
   "language": "python",
   "name": "python3"
  },
  "language_info": {
   "codemirror_mode": {
    "name": "ipython",
    "version": 3
   },
   "file_extension": ".py",
   "mimetype": "text/x-python",
   "name": "python",
   "nbconvert_exporter": "python",
   "pygments_lexer": "ipython3",
   "version": "3.7.1"
  }
 },
 "nbformat": 4,
 "nbformat_minor": 2
}
