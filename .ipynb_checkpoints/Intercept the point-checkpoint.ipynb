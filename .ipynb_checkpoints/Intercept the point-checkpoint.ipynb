{
 "cells": [
  {
   "cell_type": "code",
   "execution_count": 1,
   "metadata": {},
   "outputs": [],
   "source": [
    "import numpy as np\n",
    "import matplotlib.pyplot as plt"
   ]
  },
  {
   "cell_type": "code",
   "execution_count": 134,
   "metadata": {},
   "outputs": [],
   "source": [
    "#we are trying to intercept these points with the tangent line\n",
    "targetx = 5 \n",
    "targety = 7\n",
    "\n",
    "#set the bounds for the x values\n",
    "xmax = 7\n",
    "xmin = 0\n",
    "#number of points that we will solve for\n",
    "numpoints = 10000\n",
    "\n",
    "#the main function\n",
    "f = lambda x: np.sin(x)+(x**3 * np.cos(x)) / -2\n",
    "\n",
    "\n",
    "x1 = np.linspace(xmin, xmax, numpoints)\n",
    "y1 = f(x1)"
   ]
  },
  {
   "cell_type": "code",
   "execution_count": 135,
   "metadata": {},
   "outputs": [],
   "source": [
    "a1 = np.linspace(0, targetx, numpoints) # the x coordinate's to solve for\n",
    "h = 0.1 #the dx value between the two points that we will use to get fprime\n",
    "tan = [] #if we can find an intercepting point store the tangent line's y values here\n",
    "ax = 0 #x value on the f(x) line in which our tan line is tangent to\n",
    "ay = 0 #y value on the f(x) line in which our tan line is tangent to\n",
    "\n",
    "# try to find an x coordinate on f(x) in which the tangent line intercepts (targetx, targety)\n",
    "for a in a1:\n",
    "    fprime = (f(a+h)-f(a))/h #the derivative\n",
    "    tanVals = f(a)+fprime*(x1-a) #the tangent\n",
    "    tany = tanVals[round(numpoints*(targetx/xmax))] #get the y value of the tangent function at approximately \"targetx\" \n",
    "    if tany < ( targety + .01) and tany > (targety - .01): #this will not be exact but it will be good enough\n",
    "        tan = tanVals\n",
    "        ax = a\n",
    "        ay = f(a)\n",
    "        "
   ]
  },
  {
   "cell_type": "code",
   "execution_count": 136,
   "metadata": {},
   "outputs": [
    {
     "data": {
      "text/plain": [
       "[<matplotlib.lines.Line2D at 0x28c2c401cc0>,\n",
       " <matplotlib.lines.Line2D at 0x28c2c3a6fd0>,\n",
       " <matplotlib.lines.Line2D at 0x28c2c40b0b8>,\n",
       " <matplotlib.lines.Line2D at 0x28c2c40b438>]"
      ]
     },
     "execution_count": 136,
     "metadata": {},
     "output_type": "execute_result"
    },
    {
     "data": {
      "image/png": "[encoded data removed]",
      "text/plain": [
       "<Figure size 432x288 with 1 Axes>"
      ]
     },
     "metadata": {
      "needs_background": "light"
     },
     "output_type": "display_data"
    }
   ],
   "source": [
    "plt.plot(x1, y1, targetx, targety, 'og', x1, tan, '--r', ax, ay, 'og')"
   ]
  },
  {
   "cell_type": "code",
   "execution_count": null,
   "metadata": {},
   "outputs": [],
   "source": []
  },
  {
   "cell_type": "code",
   "execution_count": null,
   "metadata": {},
   "outputs": [],
   "source": []
  },
  {
   "cell_type": "code",
   "execution_count": null,
   "metadata": {},
   "outputs": [],
   "source": []
  },
  {
   "cell_type": "code",
   "execution_count": null,
   "metadata": {},
   "outputs": [],
   "source": []
  }
 ],
 "metadata": {
  "kernelspec": {
   "display_name": "Python 3",
   "language": "python",
   "name": "python3"
  },
  "language_info": {
   "codemirror_mode": {
    "name": "ipython",
    "version": 3
   },
   "file_extension": ".py",
   "mimetype": "text/x-python",
   "name": "python",
   "nbconvert_exporter": "python",
   "pygments_lexer": "ipython3",
   "version": "3.7.1"
  }
 },
 "nbformat": 4,
 "nbformat_minor": 2
}
